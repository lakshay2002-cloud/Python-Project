{
 "cells": [
  {
   "cell_type": "code",
   "execution_count": 1,
   "id": "7c119bc3",
   "metadata": {},
   "outputs": [],
   "source": [
    "import pandas as pd \n",
    "import matplotlib.pyplot as plt "
   ]
  },
  {
   "cell_type": "code",
   "execution_count": null,
   "id": "cdf7fc6a",
   "metadata": {},
   "outputs": [],
   "source": [
    "\n",
    "data = pd.read_csv(r\"C:\\Users\\Lenovo\\OneDrive\\Documents\\Projects\\Luke Barousse Projects\\Python Course  Data Analysis\\data_jobs.csv\")"
   ]
  },
  {
   "cell_type": "code",
   "execution_count": 5,
   "id": "eb02dc7b",
   "metadata": {},
   "outputs": [],
   "source": [
    "df = data "
   ]
  },
  {
   "cell_type": "code",
   "execution_count": 8,
   "id": "7880f434",
   "metadata": {},
   "outputs": [],
   "source": [
    "df['job_posted_date'] = pd.to_datetime(df['job_posted_date'])\n"
   ]
  },
  {
   "cell_type": "code",
   "execution_count": 9,
   "id": "0a7cba32",
   "metadata": {},
   "outputs": [
    {
     "data": {
      "text/plain": [
       "job_title_short                                               Data Analyst\n",
       "job_title                                                   Data Analytics\n",
       "job_location                                 Monterrey, Nuevo Leon, Mexico\n",
       "job_via                                                          via BeBee\n",
       "job_schedule_type                                                Part-time\n",
       "job_work_from_home                                                   False\n",
       "search_location                                                     Mexico\n",
       "job_posted_date                                        2023-12-05 07:26:05\n",
       "job_no_degree_mention                                                False\n",
       "job_health_insurance                                                 False\n",
       "job_country                                                         Mexico\n",
       "salary_rate                                                            NaN\n",
       "salary_year_avg                                                        NaN\n",
       "salary_hour_avg                                                        NaN\n",
       "company_name                         2U Bootcamps Instructional Engagement\n",
       "job_skills               ['go', 'python', 'mongodb', 'mongodb', 'css', ...\n",
       "job_type_skills          {'analyst_tools': ['tableau'], 'databases': ['...\n",
       "Name: 0, dtype: object"
      ]
     },
     "execution_count": 9,
     "metadata": {},
     "output_type": "execute_result"
    }
   ],
   "source": [
    "df.iloc[0]"
   ]
  },
  {
   "cell_type": "code",
   "execution_count": 18,
   "id": "162cd0bf",
   "metadata": {},
   "outputs": [
    {
     "data": {
      "text/html": [
       "<div>\n",
       "<style scoped>\n",
       "    .dataframe tbody tr th:only-of-type {\n",
       "        vertical-align: middle;\n",
       "    }\n",
       "\n",
       "    .dataframe tbody tr th {\n",
       "        vertical-align: top;\n",
       "    }\n",
       "\n",
       "    .dataframe thead th {\n",
       "        text-align: right;\n",
       "    }\n",
       "</style>\n",
       "<table border=\"1\" class=\"dataframe\">\n",
       "  <thead>\n",
       "    <tr style=\"text-align: right;\">\n",
       "      <th></th>\n",
       "      <th>salary_rate</th>\n",
       "      <th>salary_year_avg</th>\n",
       "      <th>salary_hour_avg</th>\n",
       "    </tr>\n",
       "  </thead>\n",
       "  <tbody>\n",
       "    <tr>\n",
       "      <th>16</th>\n",
       "      <td>hour</td>\n",
       "      <td>NaN</td>\n",
       "      <td>57.060001</td>\n",
       "    </tr>\n",
       "    <tr>\n",
       "      <th>18</th>\n",
       "      <td>year</td>\n",
       "      <td>56700.0</td>\n",
       "      <td>NaN</td>\n",
       "    </tr>\n",
       "    <tr>\n",
       "      <th>45</th>\n",
       "      <td>year</td>\n",
       "      <td>100000.0</td>\n",
       "      <td>NaN</td>\n",
       "    </tr>\n",
       "    <tr>\n",
       "      <th>48</th>\n",
       "      <td>hour</td>\n",
       "      <td>NaN</td>\n",
       "      <td>40.099998</td>\n",
       "    </tr>\n",
       "    <tr>\n",
       "      <th>51</th>\n",
       "      <td>hour</td>\n",
       "      <td>NaN</td>\n",
       "      <td>47.620003</td>\n",
       "    </tr>\n",
       "    <tr>\n",
       "      <th>...</th>\n",
       "      <td>...</td>\n",
       "      <td>...</td>\n",
       "      <td>...</td>\n",
       "    </tr>\n",
       "    <tr>\n",
       "      <th>787368</th>\n",
       "      <td>year</td>\n",
       "      <td>125000.0</td>\n",
       "      <td>NaN</td>\n",
       "    </tr>\n",
       "    <tr>\n",
       "      <th>787496</th>\n",
       "      <td>year</td>\n",
       "      <td>115000.0</td>\n",
       "      <td>NaN</td>\n",
       "    </tr>\n",
       "    <tr>\n",
       "      <th>787497</th>\n",
       "      <td>year</td>\n",
       "      <td>147500.0</td>\n",
       "      <td>NaN</td>\n",
       "    </tr>\n",
       "    <tr>\n",
       "      <th>787505</th>\n",
       "      <td>year</td>\n",
       "      <td>145000.0</td>\n",
       "      <td>NaN</td>\n",
       "    </tr>\n",
       "    <tr>\n",
       "      <th>787513</th>\n",
       "      <td>year</td>\n",
       "      <td>175000.0</td>\n",
       "      <td>NaN</td>\n",
       "    </tr>\n",
       "  </tbody>\n",
       "</table>\n",
       "<p>33073 rows × 3 columns</p>\n",
       "</div>"
      ],
      "text/plain": [
       "       salary_rate  salary_year_avg  salary_hour_avg\n",
       "16            hour              NaN        57.060001\n",
       "18            year          56700.0              NaN\n",
       "45            year         100000.0              NaN\n",
       "48            hour              NaN        40.099998\n",
       "51            hour              NaN        47.620003\n",
       "...            ...              ...              ...\n",
       "787368        year         125000.0              NaN\n",
       "787496        year         115000.0              NaN\n",
       "787497        year         147500.0              NaN\n",
       "787505        year         145000.0              NaN\n",
       "787513        year         175000.0              NaN\n",
       "\n",
       "[33073 rows x 3 columns]"
      ]
     },
     "execution_count": 18,
     "metadata": {},
     "output_type": "execute_result"
    }
   ],
   "source": [
    "df.loc[:,'salary_rate':'salary_hour_avg'].dropna(subset='salary_rate')"
   ]
  },
  {
   "cell_type": "code",
   "execution_count": null,
   "id": "bd3ad179",
   "metadata": {},
   "outputs": [],
   "source": []
  }
 ],
 "metadata": {
  "kernelspec": {
   "display_name": "python_project",
   "language": "python",
   "name": "python3"
  },
  "language_info": {
   "codemirror_mode": {
    "name": "ipython",
    "version": 3
   },
   "file_extension": ".py",
   "mimetype": "text/x-python",
   "name": "python",
   "nbconvert_exporter": "python",
   "pygments_lexer": "ipython3",
   "version": "3.12.11"
  }
 },
 "nbformat": 4,
 "nbformat_minor": 5
}
